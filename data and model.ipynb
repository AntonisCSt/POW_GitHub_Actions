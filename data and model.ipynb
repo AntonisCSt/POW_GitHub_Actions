{
 "cells": [
  {
   "attachments": {},
   "cell_type": "markdown",
   "metadata": {},
   "source": [
    "# Libraries"
   ]
  },
  {
   "cell_type": "code",
   "execution_count": 1,
   "metadata": {},
   "outputs": [],
   "source": [
    "import pandas as pd\n",
    "import numpy as np\n",
    "\n",
    "from sklearn import datasets\n",
    "from sklearn import ensemble\n",
    "from sklearn import model_selection\n",
    "\n",
    "import pickle"
   ]
  },
  {
   "cell_type": "markdown",
   "metadata": {},
   "source": [
    "## Prepare a Dataset"
   ]
  },
  {
   "cell_type": "code",
   "execution_count": 2,
   "metadata": {},
   "outputs": [],
   "source": [
    "#Dataset for binary label and probabilistic classifcation\n",
    "bcancer_data = datasets.load_breast_cancer(as_frame='auto')\n",
    "bcancer = bcancer_data.frame\n",
    "\n",
    "bcancer_ref = bcancer.sample(n=300, replace=False)\n",
    "bcancer_cur = bcancer.sample(n=200, replace=False)\n",
    "\n",
    "bcancer_label_ref = bcancer_ref.copy(deep=True)\n",
    "bcancer_label_cur = bcancer_cur.copy(deep=True)\n",
    "\n",
    "#run model\n",
    "model = ensemble.RandomForestClassifier(random_state=1, n_estimators=10)\n",
    "model.fit(bcancer_ref[bcancer_data.feature_names.tolist()], bcancer_ref.target)\n",
    "\n",
    "#predictions\n",
    "bcancer_ref['prediction'] = model.predict_proba(bcancer_ref[bcancer_data.feature_names.tolist()])[:, 1]\n",
    "bcancer_cur['prediction'] = model.predict_proba(bcancer_cur[bcancer_data.feature_names.tolist()])[:, 1]\n",
    "\n",
    "bcancer_label_ref['prediction'] = model.predict(bcancer_label_ref[bcancer_data.feature_names.tolist()])\n",
    "bcancer_label_cur['prediction'] = model.predict(bcancer_label_cur[bcancer_data.feature_names.tolist()])"
   ]
  },
  {
   "cell_type": "code",
   "execution_count": 3,
   "metadata": {},
   "outputs": [],
   "source": [
    "#save model as pkl\n",
    "\n",
    "filename = './model/bcancer_model_v1.pkl'\n",
    "pickle.dump(model, open(filename, 'wb'))\n",
    " \n",
    "# some time later...\n",
    " \n",
    "# load the model from disk\n",
    "loaded_model = pickle.load(open(filename, 'rb'))"
   ]
  },
  {
   "cell_type": "code",
   "execution_count": 17,
   "metadata": {},
   "outputs": [],
   "source": [
    "input_data = bcancer_label_ref[bcancer_data.feature_names.tolist()].iloc[0]\n"
   ]
  },
  {
   "cell_type": "code",
   "execution_count": 22,
   "metadata": {},
   "outputs": [],
   "source": [
    "input_data = list(input_data)"
   ]
  },
  {
   "cell_type": "code",
   "execution_count": 23,
   "metadata": {},
   "outputs": [
    {
     "ename": "TypeError",
     "evalue": "predict() got an unexpected keyword argument 'input_data'",
     "output_type": "error",
     "traceback": [
      "\u001b[1;31m---------------------------------------------------------------------------\u001b[0m",
      "\u001b[1;31mTypeError\u001b[0m                                 Traceback (most recent call last)",
      "\u001b[1;32mc:\\Users\\AX-St\\DataTalksClub\\Pow_FASTAPI\\POW_Fast_API\\data and model.ipynb Cell 8\u001b[0m in \u001b[0;36m<cell line: 3>\u001b[1;34m()\u001b[0m\n\u001b[0;32m      <a href='vscode-notebook-cell:/c%3A/Users/AX-St/DataTalksClub/Pow_FASTAPI/POW_Fast_API/data%20and%20model.ipynb#W6sZmlsZQ%3D%3D?line=0'>1</a>\u001b[0m \u001b[39mfrom\u001b[39;00m \u001b[39mfastapi\u001b[39;00m\u001b[39m.\u001b[39;00m\u001b[39mencoders\u001b[39;00m \u001b[39mimport\u001b[39;00m jsonable_encoder\n\u001b[0;32m      <a href='vscode-notebook-cell:/c%3A/Users/AX-St/DataTalksClub/Pow_FASTAPI/POW_Fast_API/data%20and%20model.ipynb#W6sZmlsZQ%3D%3D?line=1'>2</a>\u001b[0m input_df \u001b[39m=\u001b[39m pd\u001b[39m.\u001b[39mDataFrame(jsonable_encoder(input_data))\n\u001b[1;32m----> <a href='vscode-notebook-cell:/c%3A/Users/AX-St/DataTalksClub/Pow_FASTAPI/POW_Fast_API/data%20and%20model.ipynb#W6sZmlsZQ%3D%3D?line=2'>3</a>\u001b[0m results \u001b[39m=\u001b[39m loaded_model\u001b[39m.\u001b[39;49mpredict(input_data\u001b[39m=\u001b[39;49minput_df\u001b[39m.\u001b[39;49mreplace({np\u001b[39m.\u001b[39;49mnan: \u001b[39mNone\u001b[39;49;00m}))\n",
      "\u001b[1;31mTypeError\u001b[0m: predict() got an unexpected keyword argument 'input_data'"
     ]
    }
   ],
   "source": [
    "from fastapi.encoders import jsonable_encoder\n",
    "input_df = pd.DataFrame(jsonable_encoder(input_data))\n",
    "results = loaded_model.predict(input_data=input_df.replace({np.nan: None}))"
   ]
  },
  {
   "cell_type": "code",
   "execution_count": 50,
   "metadata": {},
   "outputs": [
    {
     "data": {
      "text/plain": [
       "array([[1.727e+01, 2.542e+01, 1.124e+02, 9.288e+02, 8.331e-02, 1.109e-01,\n",
       "        1.204e-01, 5.736e-02, 1.467e-01, 5.407e-02, 5.100e-01, 1.679e+00,\n",
       "        3.283e+00, 5.838e+01, 8.109e-03, 4.308e-02, 4.942e-02, 1.742e-02,\n",
       "        1.594e-02, 3.739e-03, 2.038e+01, 3.546e+01, 1.328e+02, 1.284e+03,\n",
       "        1.436e-01, 4.122e-01, 5.036e-01, 1.739e-01, 2.500e-01, 7.944e-02]])"
      ]
     },
     "execution_count": 50,
     "metadata": {},
     "output_type": "execute_result"
    }
   ],
   "source": [
    "np.array(list(dict_input.values())).reshape(1, -1)"
   ]
  },
  {
   "cell_type": "code",
   "execution_count": 52,
   "metadata": {},
   "outputs": [
    {
     "name": "stderr",
     "output_type": "stream",
     "text": [
      "c:\\Users\\AX-St\\.virtualenvs\\Mlops_project_semicon-RaORYTdD\\lib\\site-packages\\sklearn\\base.py:450: UserWarning: X does not have valid feature names, but RandomForestClassifier was fitted with feature names\n",
      "  warnings.warn(\n"
     ]
    },
    {
     "data": {
      "text/plain": [
       "0"
      ]
     },
     "execution_count": 52,
     "metadata": {},
     "output_type": "execute_result"
    }
   ],
   "source": [
    "model.predict(np.array(list(dict_input.values())).reshape(1, -1))[0]"
   ]
  },
  {
   "cell_type": "code",
   "execution_count": null,
   "metadata": {},
   "outputs": [],
   "source": []
  }
 ],
 "metadata": {
  "kernelspec": {
   "display_name": "Python 3",
   "language": "python",
   "name": "python3"
  },
  "language_info": {
   "codemirror_mode": {
    "name": "ipython",
    "version": 3
   },
   "file_extension": ".py",
   "mimetype": "text/x-python",
   "name": "python",
   "nbconvert_exporter": "python",
   "pygments_lexer": "ipython3",
   "version": "3.9.7 (tags/v3.9.7:1016ef3, Aug 30 2021, 20:19:38) [MSC v.1929 64 bit (AMD64)]"
  },
  "vscode": {
   "interpreter": {
    "hash": "2918bfb50ef3f4251de1c3d221a3a73e66f13db4e14d757cdfa49905fdfb91be"
   }
  }
 },
 "nbformat": 4,
 "nbformat_minor": 1
}
